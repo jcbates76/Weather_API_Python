{
 "cells": [
  {
   "cell_type": "markdown",
   "metadata": {},
   "source": [
    "# VacationPy"
   ]
  },
  {
   "cell_type": "code",
   "execution_count": 1,
   "metadata": {},
   "outputs": [],
   "source": [
    "# Dependencies and Setup\n",
    "import matplotlib.pyplot as plt\n",
    "import pandas as pd\n",
    "import numpy as np\n",
    "import requests\n",
    "import gmaps\n",
    "import os\n",
    "from pprint import pprint\n",
    "\n",
    "# Import API key\n",
    "from api_keys import g_key"
   ]
  },
  {
   "cell_type": "markdown",
   "metadata": {},
   "source": [
    "### Store Part I results into DataFrame"
   ]
  },
  {
   "cell_type": "code",
   "execution_count": 3,
   "metadata": {},
   "outputs": [],
   "source": [
    "# Load the data from the CSV data created from the previous project\n",
    "path = os.path.join(\"..\", \"WeatherPy\", \"Output Data\", \"city_weather.csv\")\n",
    "data_df = pd.read_csv(path)"
   ]
  },
  {
   "cell_type": "markdown",
   "metadata": {},
   "source": [
    "### Display the humidity data as a heatmap"
   ]
  },
  {
   "cell_type": "code",
   "execution_count": 4,
   "metadata": {},
   "outputs": [
    {
     "data": {
      "application/vnd.jupyter.widget-view+json": {
       "model_id": "e2fbe28fd9834d60be0dce1523132e92",
       "version_major": 2,
       "version_minor": 0
      },
      "text/plain": [
       "Figure(layout=FigureLayout(border='1px solid black', height='300px', margin=' 0 auto 0 auto', padding='1px', w…"
      ]
     },
     "metadata": {},
     "output_type": "display_data"
    }
   ],
   "source": [
    "# Create a gmap heatmap showing the locations of the cities selected, using humidity as the weight of the heatmap\n",
    "# Define the locations using latitude and longitude\n",
    "locations = data_df[['Latitude', 'Longitude']]\n",
    "\n",
    "# Define the weights to use in the heatmap\n",
    "weights = data_df['Humidity (%)']\n",
    "\n",
    "# Input the layout parameters\n",
    "figure_layout = {\n",
    "    'width': '300px',\n",
    "    'height': '300px',\n",
    "    'border': '1px solid black',\n",
    "    'padding': '1px',\n",
    "    'margin': ' 0 auto 0 auto'\n",
    "}\n",
    "\n",
    "# Create the map and the heatmap layers.  Display the heatmap.\n",
    "fig = gmaps.figure(layout=figure_layout)\n",
    "heatmap_layer = gmaps.heatmap_layer(locations,\n",
    "                                    weights=weights, \n",
    "                                    dissipating=False, \n",
    "                                    max_intensity=100,\n",
    "                                    point_radius=3)\n",
    "fig.add_layer(heatmap_layer)\n",
    "fig"
   ]
  },
  {
   "cell_type": "markdown",
   "metadata": {},
   "source": [
    "### Write Up\n",
    "Looking at the heatmap, similar to the data points on the scatter plots created in WeatherPy, there does not seem to be a correlation in the heatmap based on latitude.  Not overly surprising however, there does appear to be a correlation between the heatmap intensity and the priximity to the coast.  Cities closer to the ocean costs appear to be more likely to have higher humidity than those cities in the middle of the continents.  "
   ]
  },
  {
   "cell_type": "markdown",
   "metadata": {},
   "source": [
    "### Create new DataFrame fitting weather criteria\n",
    "* Narrow down the city list to fit ideal weather conditions:\n",
    "* Temperature: Between 65 degrees F - 80 degrees F\n",
    "* Wind Speed: Between 0 mph - 10 mph\n",
    "* Cloudiness: Between 0% - 10%\n",
    "* Humidity: Between 0% - 30%"
   ]
  },
  {
   "cell_type": "code",
   "execution_count": 5,
   "metadata": {},
   "outputs": [
    {
     "data": {
      "text/plain": [
       "6"
      ]
     },
     "execution_count": 5,
     "metadata": {},
     "output_type": "execute_result"
    }
   ],
   "source": [
    "# Narrow down the DataFrame to select places with ideal conditions\n",
    "ideal_df = data_df[(data_df['Max Temperature (F)'] >= 65) & (data_df['Max Temperature (F)'] < 80) &\n",
    "                  (data_df['Wind Speed (mph)'] >= 0) & (data_df['Wind Speed (mph)'] < 10) & \n",
    "                  (data_df['Clouds (%)'] >= 0) & (data_df['Clouds (%)'] < 10) & \n",
    "                  (data_df['Humidity (%)'] >= 0) & (data_df['Humidity (%)'] <30)]\n",
    "len(ideal_df)"
   ]
  },
  {
   "cell_type": "markdown",
   "metadata": {},
   "source": [
    "### Identify the Closest Hotel, Place Marker on MapMap"
   ]
  },
  {
   "cell_type": "code",
   "execution_count": 6,
   "metadata": {},
   "outputs": [
    {
     "name": "stderr",
     "output_type": "stream",
     "text": [
      "C:\\Users\\jcbat\\AppData\\Local\\Temp/ipykernel_66396/4164523158.py:2: SettingWithCopyWarning: \n",
      "A value is trying to be set on a copy of a slice from a DataFrame.\n",
      "Try using .loc[row_indexer,col_indexer] = value instead\n",
      "\n",
      "See the caveats in the documentation: https://pandas.pydata.org/pandas-docs/stable/user_guide/indexing.html#returning-a-view-versus-a-copy\n",
      "  ideal_df['Hotel Name'] = ''\n",
      "C:\\Users\\jcbat\\AppData\\Local\\Temp/ipykernel_66396/4164523158.py:3: SettingWithCopyWarning: \n",
      "A value is trying to be set on a copy of a slice from a DataFrame.\n",
      "Try using .loc[row_indexer,col_indexer] = value instead\n",
      "\n",
      "See the caveats in the documentation: https://pandas.pydata.org/pandas-docs/stable/user_guide/indexing.html#returning-a-view-versus-a-copy\n",
      "  ideal_df['Hotel Latitude'] = ''\n",
      "C:\\Users\\jcbat\\AppData\\Local\\Temp/ipykernel_66396/4164523158.py:4: SettingWithCopyWarning: \n",
      "A value is trying to be set on a copy of a slice from a DataFrame.\n",
      "Try using .loc[row_indexer,col_indexer] = value instead\n",
      "\n",
      "See the caveats in the documentation: https://pandas.pydata.org/pandas-docs/stable/user_guide/indexing.html#returning-a-view-versus-a-copy\n",
      "  ideal_df['Hotel Longitude'] = ''\n"
     ]
    }
   ],
   "source": [
    "# Add columns to the ideal DataFrame to store the hotel information\n",
    "ideal_df['Hotel Name'] = ''\n",
    "ideal_df['Hotel Latitude'] = ''\n",
    "ideal_df['Hotel Longitude'] = ''\n"
   ]
  },
  {
   "cell_type": "code",
   "execution_count": 7,
   "metadata": {},
   "outputs": [
    {
     "name": "stdout",
     "output_type": "stream",
     "text": [
      "Retrieving results for index 55: city san patricio.\n"
     ]
    },
    {
     "name": "stderr",
     "output_type": "stream",
     "text": [
      "C:\\Users\\jcbat\\anaconda\\anaconda3\\lib\\site-packages\\pandas\\core\\indexing.py:1817: SettingWithCopyWarning: \n",
      "A value is trying to be set on a copy of a slice from a DataFrame.\n",
      "Try using .loc[row_indexer,col_indexer] = value instead\n",
      "\n",
      "See the caveats in the documentation: https://pandas.pydata.org/pandas-docs/stable/user_guide/indexing.html#returning-a-view-versus-a-copy\n",
      "  self._setitem_single_column(loc, value, pi)\n"
     ]
    },
    {
     "name": "stdout",
     "output_type": "stream",
     "text": [
      "Retrieving results for index 89: city half moon bay.\n",
      "Retrieving results for index 216: city arlit.\n",
      "Retrieving results for index 358: city bouna.\n",
      "Retrieving results for index 406: city bitkine.\n",
      "Retrieving results for index 469: city kokologo.\n"
     ]
    }
   ],
   "source": [
    "# Base URL for the hotel lookup\n",
    "base_url = \"https://maps.googleapis.com/maps/api/place/nearbysearch/json\"\n",
    "\n",
    "# Iterate through each row of data in the DataFrame\n",
    "for index, row in ideal_df.iterrows():\n",
    "        \n",
    "    # Output of which row in the DataForm is being sent to the AIP\n",
    "    print(f\"Retrieving results for index {index}: city {row['City']}.\")\n",
    "    \n",
    "    # Prepare the parameters to be sent\n",
    "    lat = row['Latitude']      # Latitude of the city to be searched\n",
    "    lng = row['Longitude']     # Longitude of the city to be searched\n",
    "    coord = (f\"{lat}, {lng}\")  # Coordinate pair\n",
    "    \n",
    "    # Parameters to be sent to API\n",
    "    params = {\n",
    "        \"location\": coord,\n",
    "        \"radius\": 5000, \n",
    "        \"type\": \"hotel\", \n",
    "        \"key\": g_key\n",
    "             }\n",
    "\n",
    "    # Request to API\n",
    "    response = requests.get(base_url, params=params).json()\n",
    "\n",
    "    # Extract results\n",
    "    results = response['results']\n",
    "    \n",
    "    # Place output of the response into the DataFrame\n",
    "    # If a hotel was not found in a city, drop the city from the list\n",
    "    try:\n",
    "        ideal_df.loc[index, 'Hotel Name'] = results[1]['name']\n",
    "        ideal_df.loc[index, 'Hotel Latitude'] = response['results'][1]['geometry']['location']['lat']\n",
    "        ideal_df.loc[index, 'Hotel Longitude'] = response['results'][1]['geometry']['location']['lng']\n",
    "    except (KeyError, IndexError):\n",
    "        print(f\"Missing field/result...skipping\")\n",
    "        ideal_df = ideal_df.drop(index)\n",
    "        "
   ]
  },
  {
   "cell_type": "code",
   "execution_count": 8,
   "metadata": {},
   "outputs": [
    {
     "name": "stderr",
     "output_type": "stream",
     "text": [
      "C:\\Users\\jcbat\\AppData\\Local\\Temp/ipykernel_66396/2340905497.py:6: SettingWithCopyWarning: \n",
      "A value is trying to be set on a copy of a slice from a DataFrame.\n",
      "Try using .loc[row_indexer,col_indexer] = value instead\n",
      "\n",
      "See the caveats in the documentation: https://pandas.pydata.org/pandas-docs/stable/user_guide/indexing.html#returning-a-view-versus-a-copy\n",
      "  ideal_df['Marker Label'] = ideal_df['Hotel Name'] + \", \" + ideal_df['City'] + \", \" +  ideal_df['Country']\n"
     ]
    },
    {
     "data": {
      "application/vnd.jupyter.widget-view+json": {
       "model_id": "e2fbe28fd9834d60be0dce1523132e92",
       "version_major": 2,
       "version_minor": 0
      },
      "text/plain": [
       "Figure(layout=FigureLayout(border='1px solid black', height='300px', margin=' 0 auto 0 auto', padding='1px', w…"
      ]
     },
     "metadata": {},
     "output_type": "display_data"
    }
   ],
   "source": [
    "# Create the map with the hotel markers\n",
    "# Place the hotel coordinates into a list\n",
    "coordinates = ideal_df[['Hotel Latitude', 'Hotel Longitude']]\n",
    "\n",
    "# Create marker labels with the Hotel Name, City and Country\n",
    "ideal_df['Marker Label'] = ideal_df['Hotel Name'] + \", \" + ideal_df['City'] + \", \" +  ideal_df['Country']\n",
    "marker_label = ideal_df['Marker Label'].astype(str).tolist()\n",
    "\n",
    "# Add the markers to the layout\n",
    "markers = gmaps.marker_layer(coordinates, info_box_content=marker_label)\n",
    "fig.add_layer(markers)\n",
    "\n",
    "# Plot the map\n",
    "fig"
   ]
  },
  {
   "cell_type": "code",
   "execution_count": null,
   "metadata": {},
   "outputs": [],
   "source": []
  }
 ],
 "metadata": {
  "kernelspec": {
   "display_name": "Python 3 (ipykernel)",
   "language": "python",
   "name": "python3"
  },
  "language_info": {
   "codemirror_mode": {
    "name": "ipython",
    "version": 3
   },
   "file_extension": ".py",
   "mimetype": "text/x-python",
   "name": "python",
   "nbconvert_exporter": "python",
   "pygments_lexer": "ipython3",
   "version": "3.9.7"
  },
  "latex_envs": {
   "LaTeX_envs_menu_present": true,
   "autoclose": false,
   "autocomplete": true,
   "bibliofile": "biblio.bib",
   "cite_by": "apalike",
   "current_citInitial": 1,
   "eqLabelWithNumbers": true,
   "eqNumInitial": 1,
   "hotkeys": {
    "equation": "Ctrl-E",
    "itemize": "Ctrl-I"
   },
   "labels_anchors": false,
   "latex_user_defs": false,
   "report_style_numbering": false,
   "user_envs_cfg": false
  }
 },
 "nbformat": 4,
 "nbformat_minor": 4
}
